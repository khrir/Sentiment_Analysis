{
 "cells": [
  {
   "cell_type": "code",
   "execution_count": 60,
   "metadata": {},
   "outputs": [],
   "source": [
    "import tweepy, datetime, re\n",
    "import pandas as pd\n",
    "from textblob import TextBlob\n",
    "from textblob.sentiments import NaiveBayesAnalyzer\n",
    "from dotenv import dotenv_values"
   ]
  },
  {
   "cell_type": "code",
   "execution_count": 61,
   "metadata": {},
   "outputs": [],
   "source": [
    "config = dotenv_values('.env')\n",
    "\n",
    "CONSUMER_KEY = config['CONSUMER_KEY']\n",
    "CONSUMER_SECRET = config['CONSUMER_SECRET']\n",
    "ACCESS_TOKEN = config['ACCESS_TOKEN']\n",
    "ACCESS_TOKEN_SECRET = config['ACCESS_TOKEN_SECRET']\n",
    "\n",
    "count = 400\n",
    "keyword = 'Lula'\n",
    "since_date = '2022-09-01'\n",
    "until_date = '2022-10-01'"
   ]
  },
  {
   "cell_type": "code",
   "execution_count": 62,
   "metadata": {},
   "outputs": [],
   "source": [
    "class TweetAnalyzer():\n",
    "\n",
    "  def __init__(self, CONSUMER_KEY, CONSUMER_SECRET, ACCESS_TOKEN, ACCESS_TOKEN_SECRET):\n",
    "    '''\n",
    "      Conectar com o tweepy\n",
    "    '''\n",
    "    auth = tweepy.OAuthHandler(CONSUMER_KEY, CONSUMER_SECRET)\n",
    "    auth.set_access_token(ACCESS_TOKEN, ACCESS_TOKEN_SECRET)\n",
    "\n",
    "    self.conToken = tweepy.API(auth, wait_on_rate_limit=True, retry_count=5, retry_delay=10)\n",
    "\n",
    "  def __clean_tweet(self, tweets_text):\n",
    "    '''\n",
    "    Tweet cleansing.\n",
    "    '''\n",
    "    clean_text = re.sub(r'RT+', '', tweets_text) \n",
    "    clean_text = re.sub(r'@\\S+', '', clean_text)  \n",
    "    clean_text = re.sub(r'https?\\S+', '', clean_text) \n",
    "    clean_text = clean_text.replace(\"\\n\", \" \")\n",
    "\n",
    "    return clean_text\n",
    "\n",
    "  def search_by_keyword(self, keyword, count):\n",
    "    '''\n",
    "      Search for the twitters thar has commented the keyword subject.\n",
    "    '''\n",
    "    tweets_iter = tweepy.Cursor(self.conToken.search_tweets,\n",
    "                          q=keyword, tweet_mode='extended',\n",
    "                          result_type='mixed', \n",
    "                          lang='pt', include_entities=True).items(count)\n",
    "\n",
    "    return tweets_iter\n",
    "\n",
    "  def prepare_tweets_list(self, tweets_iter):\n",
    "    '''\n",
    "      Transforming the data to DataFrame.\n",
    "    '''\n",
    "\n",
    "    tweets_data_list = []\n",
    "    for tweet in tweets_iter:\n",
    "      if not 'retweeted_status' in dir(tweet):\n",
    "        tweet_text = self.__clean_tweet(tweet.full_text)\n",
    "        tweets_data = {\n",
    "            'len' : len(tweet_text),\n",
    "            'ID' : tweet.id,\n",
    "            'User' : tweet.user.screen_name,\n",
    "            'UserName' : tweet.user.name,\n",
    "            'UserLocation' : tweet.user.location,\n",
    "            'TweetText' : tweet_text,\n",
    "            'Language' : tweet.user.lang,\n",
    "            'Date' : tweet.created_at,\n",
    "            'Source': tweet.source,\n",
    "            'Likes' : tweet.favorite_count,\n",
    "            'Retweets' : tweet.retweet_count,\n",
    "            'Coordinates' : tweet.coordinates,\n",
    "            'Place' : tweet.place \n",
    "        }\n",
    "\n",
    "        tweets_data_list.append(tweets_data)\n",
    "\n",
    "    return tweets_data_list\n",
    "\n",
    "  def sentiment_polarity(self, tweets_text_list):\n",
    "      tweets_sentiments_list = []\n",
    "\n",
    "      for tweet in tweets_text_list:\n",
    "        polarity = TextBlob(tweet)\n",
    "\n",
    "        if polarity.polarity > 0:  # type: ignore\n",
    "          tweets_sentiments_list.append(1)\n",
    "        # elif polarity.polarity < 0:  # type: ignore\n",
    "        #   tweets_sentiments_list.append('Negative')\n",
    "        else:\n",
    "          tweets_sentiments_list.append(0)\n",
    "\n",
    "      return tweets_sentiments_list"
   ]
  },
  {
   "cell_type": "code",
   "execution_count": 63,
   "metadata": {},
   "outputs": [],
   "source": [
    "analyzer = TweetAnalyzer(CONSUMER_KEY = CONSUMER_KEY, CONSUMER_SECRET = CONSUMER_SECRET, ACCESS_TOKEN = ACCESS_TOKEN, ACCESS_TOKEN_SECRET = ACCESS_TOKEN_SECRET)"
   ]
  },
  {
   "cell_type": "code",
   "execution_count": 64,
   "metadata": {},
   "outputs": [],
   "source": [
    "# Para realizar as buscas usando a keyword e quantidade predefinida e converter em uma lista.\n",
    "tweets_iter = analyzer.search_by_keyword(keyword, count)\n",
    "tweets_list = analyzer.prepare_tweets_list(tweets_iter)\n"
   ]
  },
  {
   "cell_type": "code",
   "execution_count": 65,
   "metadata": {},
   "outputs": [],
   "source": [
    "# Uso de um Dataframe para melhor manipulação\n",
    "tweets_df = pd.DataFrame(tweets_list)\n",
    "tweets_df = tweets_df[['User', 'UserLocation', 'TweetText']]\n",
    "\n",
    "# Chamar a função para análise de sentimentos\n",
    "tweets_df['Sentiment'] = analyzer.sentiment_polarity(tweets_df['TweetText'])\n",
    "tweets_df.to_csv('./data/primeira_pesq.csv')\n",
    "# tweets_df.head(20)"
   ]
  },
  {
   "cell_type": "code",
   "execution_count": 66,
   "metadata": {},
   "outputs": [],
   "source": [
    "# print(tweets_df['TweetText'][13])"
   ]
  },
  {
   "cell_type": "code",
   "execution_count": 67,
   "metadata": {},
   "outputs": [],
   "source": [
    "# print(tweets_df['TweetText'][17])"
   ]
  }
 ],
 "metadata": {
  "kernelspec": {
   "display_name": "Python 3",
   "language": "python",
   "name": "python3"
  },
  "language_info": {
   "codemirror_mode": {
    "name": "ipython",
    "version": 3
   },
   "file_extension": ".py",
   "mimetype": "text/x-python",
   "name": "python",
   "nbconvert_exporter": "python",
   "pygments_lexer": "ipython3",
   "version": "3.8.10"
  },
  "orig_nbformat": 4,
  "vscode": {
   "interpreter": {
    "hash": "916dbcbb3f70747c44a77c7bcd40155683ae19c65e1c03b4aa3499c5328201f1"
   }
  }
 },
 "nbformat": 4,
 "nbformat_minor": 2
}
